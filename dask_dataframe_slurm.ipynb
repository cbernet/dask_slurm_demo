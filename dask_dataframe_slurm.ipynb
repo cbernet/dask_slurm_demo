{
 "cells": [
  {
   "cell_type": "markdown",
   "id": "72b4b866",
   "metadata": {},
   "source": [
    "# Analyzing a large dataset on the IP2I SLURM Farm"
   ]
  },
  {
   "cell_type": "markdown",
   "id": "52c927f5",
   "metadata": {},
   "source": [
    "## The New York City taxi dataset"
   ]
  },
  {
   "cell_type": "code",
   "execution_count": null,
   "id": "1a2600b0",
   "metadata": {},
   "outputs": [],
   "source": []
  },
  {
   "cell_type": "code",
   "execution_count": 6,
   "id": "a18d7f1e",
   "metadata": {},
   "outputs": [
    {
     "name": "stdout",
     "output_type": "stream",
     "text": [
      "[PosixPath('/gridgroup/cms/cbernet/test_data/nyc_taxis/2009/yellow_tripdata_2009-01.csv'),\n",
      " PosixPath('/gridgroup/cms/cbernet/test_data/nyc_taxis/2009/yellow_tripdata_2009-02.csv'),\n",
      " PosixPath('/gridgroup/cms/cbernet/test_data/nyc_taxis/2009/yellow_tripdata_2009-03.csv'),\n",
      " PosixPath('/gridgroup/cms/cbernet/test_data/nyc_taxis/2009/yellow_tripdata_2009-04.csv'),\n",
      " PosixPath('/gridgroup/cms/cbernet/test_data/nyc_taxis/2009/yellow_tripdata_2009-05.csv'),\n",
      " PosixPath('/gridgroup/cms/cbernet/test_data/nyc_taxis/2009/yellow_tripdata_2009-06.csv'),\n",
      " PosixPath('/gridgroup/cms/cbernet/test_data/nyc_taxis/2009/yellow_tripdata_2009-07.csv'),\n",
      " PosixPath('/gridgroup/cms/cbernet/test_data/nyc_taxis/2009/yellow_tripdata_2009-08.csv'),\n",
      " PosixPath('/gridgroup/cms/cbernet/test_data/nyc_taxis/2009/yellow_tripdata_2009-09.csv'),\n",
      " PosixPath('/gridgroup/cms/cbernet/test_data/nyc_taxis/2009/yellow_tripdata_2009-10.csv'),\n",
      " PosixPath('/gridgroup/cms/cbernet/test_data/nyc_taxis/2009/yellow_tripdata_2009-11.csv'),\n",
      " PosixPath('/gridgroup/cms/cbernet/test_data/nyc_taxis/2009/yellow_tripdata_2009-12.csv')]\n"
     ]
    }
   ],
   "source": [
    "import pprint\n",
    "import pathlib\n",
    "\n",
    "taxis = pathlib.Path(\"/gridgroup/cms/cbernet/test_data/nyc_taxis\")\n",
    "\n",
    "t2009 = sorted(list((taxis / \"2009\").glob(\"*.csv\")))\n",
    "pprint.pprint(t2009)"
   ]
  },
  {
   "cell_type": "code",
   "execution_count": 8,
   "id": "a7ebcb87",
   "metadata": {},
   "outputs": [
    {
     "data": {
      "text/plain": [
       "[2.3637942634522915,\n",
       " 2.249560944736004,\n",
       " 2.4210419980809093,\n",
       " 2.406269527040422,\n",
       " 2.491463811136782,\n",
       " 2.394559129141271,\n",
       " 2.3006204795092344,\n",
       " 2.310441732406616,\n",
       " 2.360710578970611,\n",
       " 2.637480964884162,\n",
       " 2.444788286462426,\n",
       " 2.497821459546685]"
      ]
     },
     "execution_count": 8,
     "metadata": {},
     "output_type": "execute_result"
    }
   ],
   "source": [
    "[f.stat().st_size / 1024**3 for f in t2009]"
   ]
  },
  {
   "cell_type": "code",
   "execution_count": null,
   "id": "55a0fe96",
   "metadata": {},
   "outputs": [],
   "source": []
  }
 ],
 "metadata": {
  "kernelspec": {
   "display_name": "Python 3 (ipykernel)",
   "language": "python",
   "name": "python3"
  },
  "language_info": {
   "codemirror_mode": {
    "name": "ipython",
    "version": 3
   },
   "file_extension": ".py",
   "mimetype": "text/x-python",
   "name": "python",
   "nbconvert_exporter": "python",
   "pygments_lexer": "ipython3",
   "version": "3.9.10"
  }
 },
 "nbformat": 4,
 "nbformat_minor": 5
}
