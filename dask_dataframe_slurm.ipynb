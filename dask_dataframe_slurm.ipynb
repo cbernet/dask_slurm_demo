{
 "cells": [
  {
   "cell_type": "markdown",
   "id": "86cb5fd3",
   "metadata": {},
   "source": [
    "# Analyzing a large dataset on the IP2I SLURM Farm"
   ]
  },
  {
   "cell_type": "markdown",
   "id": "d18ea865",
   "metadata": {},
   "source": [
    "## The New York City taxi dataset"
   ]
  },
  {
   "cell_type": "code",
   "execution_count": 1,
   "id": "d9d74212",
   "metadata": {},
   "outputs": [
    {
     "name": "stdout",
     "output_type": "stream",
     "text": [
      "[PosixPath('/gridgroup/cms/cbernet/test_data/nyc_taxis/2011/yellow_tripdata_2011-01.csv'),\n",
      " PosixPath('/gridgroup/cms/cbernet/test_data/nyc_taxis/2011/yellow_tripdata_2011-02.csv'),\n",
      " PosixPath('/gridgroup/cms/cbernet/test_data/nyc_taxis/2011/yellow_tripdata_2011-03.csv'),\n",
      " PosixPath('/gridgroup/cms/cbernet/test_data/nyc_taxis/2011/yellow_tripdata_2011-04.csv'),\n",
      " PosixPath('/gridgroup/cms/cbernet/test_data/nyc_taxis/2011/yellow_tripdata_2011-05.csv'),\n",
      " PosixPath('/gridgroup/cms/cbernet/test_data/nyc_taxis/2011/yellow_tripdata_2011-06.csv'),\n",
      " PosixPath('/gridgroup/cms/cbernet/test_data/nyc_taxis/2011/yellow_tripdata_2011-07.csv'),\n",
      " PosixPath('/gridgroup/cms/cbernet/test_data/nyc_taxis/2011/yellow_tripdata_2011-08.csv'),\n",
      " PosixPath('/gridgroup/cms/cbernet/test_data/nyc_taxis/2011/yellow_tripdata_2011-09.csv'),\n",
      " PosixPath('/gridgroup/cms/cbernet/test_data/nyc_taxis/2011/yellow_tripdata_2011-10.csv'),\n",
      " PosixPath('/gridgroup/cms/cbernet/test_data/nyc_taxis/2011/yellow_tripdata_2011-11.csv'),\n",
      " PosixPath('/gridgroup/cms/cbernet/test_data/nyc_taxis/2011/yellow_tripdata_2011-12.csv')]\n"
     ]
    }
   ],
   "source": [
    "import pprint\n",
    "import pathlib\n",
    "\n",
    "taxis = pathlib.Path(\"/gridgroup/cms/cbernet/test_data/nyc_taxis\")\n",
    "\n",
    "t2011 = sorted(list((taxis / \"2011\").glob(\"*.csv\")))\n",
    "pprint.pprint(t2011)"
   ]
  },
  {
   "cell_type": "code",
   "execution_count": 2,
   "id": "7aa1094b",
   "metadata": {},
   "outputs": [
    {
     "data": {
      "text/plain": [
       "[2.3046080265194178,\n",
       " 2.4255120931193233,\n",
       " 2.746128797531128,\n",
       " 2.5176544673740864,\n",
       " 2.6636097356677055,\n",
       " 2.5855863811448216,\n",
       " 2.522386613301933,\n",
       " 2.2658982882276177,\n",
       " 2.497904699295759,\n",
       " 2.6866614799946547,\n",
       " 2.4851463064551353,\n",
       " 2.5523328203707933]"
      ]
     },
     "execution_count": 2,
     "metadata": {},
     "output_type": "execute_result"
    }
   ],
   "source": [
    "[f.stat().st_size / 1024**3 for f in t2011]"
   ]
  },
  {
   "cell_type": "markdown",
   "id": "32421ea8",
   "metadata": {},
   "source": [
    "## Set up the dask cluster"
   ]
  },
  {
   "cell_type": "code",
   "execution_count": 3,
   "id": "bbdb1caa",
   "metadata": {},
   "outputs": [
    {
     "name": "stderr",
     "output_type": "stream",
     "text": [
      "/home/cms/cbernet/miniconda3/envs/dask2/lib/python3.10/site-packages/dask_jobqueue/core.py:20: FutureWarning: tmpfile is deprecated and will be removed in a future release. Please use dask.utils.tmpfile instead.\n",
      "  from distributed.utils import tmpfile\n"
     ]
    }
   ],
   "source": [
    "from dask_jobqueue import SLURMCluster\n",
    "\n",
    "cluster = SLURMCluster(\n",
    "    # queue='normal',\n",
    "    project=\"cms\",\n",
    "    cores=8,\n",
    "    memory=\"64 GB\", \n",
    "    walltime=\"02:00:00\",\n",
    ")"
   ]
  },
  {
   "cell_type": "code",
   "execution_count": 4,
   "id": "769facd6",
   "metadata": {},
   "outputs": [],
   "source": [
    "cluster.scale(jobs=8) "
   ]
  },
  {
   "cell_type": "code",
   "execution_count": 5,
   "id": "debe3941",
   "metadata": {},
   "outputs": [],
   "source": [
    "from dask.distributed import Client\n",
    "client = Client(cluster)"
   ]
  },
  {
   "cell_type": "markdown",
   "id": "55d1ddb5",
   "metadata": {},
   "source": [
    "We now have a cluster with 8x8=64 workers, and in total 512 GB of RAM. This is enough to hold the entire taxi dataset in the cluster memory. \n",
    "\n",
    "Dask comes with a handy dashboard:"
   ]
  },
  {
   "cell_type": "code",
   "execution_count": 6,
   "id": "228dd155",
   "metadata": {},
   "outputs": [
    {
     "data": {
      "text/plain": [
       "'http://134.158.83.2:8787/status'"
      ]
     },
     "execution_count": 6,
     "metadata": {},
     "output_type": "execute_result"
    }
   ],
   "source": [
    "cluster.dashboard_link"
   ]
  },
  {
   "cell_type": "markdown",
   "id": "de0e1637",
   "metadata": {},
   "source": [
    "In another browser tab, connect to the dashboad. And if you're doing ssh tunnelling, connect to http://localhost:8787, or whatever port you've chosen in your port mapping. "
   ]
  },
  {
   "cell_type": "markdown",
   "id": "005774dc",
   "metadata": {},
   "source": [
    "## Dask dataframe : A first look at the data"
   ]
  },
  {
   "cell_type": "code",
   "execution_count": 7,
   "id": "a4e48061",
   "metadata": {},
   "outputs": [],
   "source": [
    "import dask\n",
    "import dask.dataframe as dd"
   ]
  },
  {
   "cell_type": "code",
   "execution_count": 8,
   "id": "fe774bdc",
   "metadata": {},
   "outputs": [],
   "source": [
    "df = dd.read_csv(\n",
    "    taxis / \"2011/*.csv\", \n",
    "    dtype={\"tip_amount\": \"float64\", \"tolls_amount\": \"float64\"}   # data not clean, need to cast type\n",
    ")"
   ]
  },
  {
   "cell_type": "markdown",
   "id": "f409057c",
   "metadata": {},
   "source": [
    "Let's have a look at the first rows of the dataframe. This is a fast operation, as there is no need to process the full dataframe to get these rows: "
   ]
  },
  {
   "cell_type": "code",
   "execution_count": 10,
   "id": "f9ab7434",
   "metadata": {},
   "outputs": [
    {
     "data": {
      "text/html": [
       "<div>\n",
       "<style scoped>\n",
       "    .dataframe tbody tr th:only-of-type {\n",
       "        vertical-align: middle;\n",
       "    }\n",
       "\n",
       "    .dataframe tbody tr th {\n",
       "        vertical-align: top;\n",
       "    }\n",
       "\n",
       "    .dataframe thead th {\n",
       "        text-align: right;\n",
       "    }\n",
       "</style>\n",
       "<table border=\"1\" class=\"dataframe\">\n",
       "  <thead>\n",
       "    <tr style=\"text-align: right;\">\n",
       "      <th></th>\n",
       "      <th>vendor_id</th>\n",
       "      <th>pickup_datetime</th>\n",
       "      <th>dropoff_datetime</th>\n",
       "      <th>passenger_count</th>\n",
       "      <th>trip_distance</th>\n",
       "      <th>pickup_longitude</th>\n",
       "      <th>pickup_latitude</th>\n",
       "      <th>rate_code</th>\n",
       "      <th>store_and_fwd_flag</th>\n",
       "      <th>dropoff_longitude</th>\n",
       "      <th>dropoff_latitude</th>\n",
       "      <th>payment_type</th>\n",
       "      <th>fare_amount</th>\n",
       "      <th>surcharge</th>\n",
       "      <th>mta_tax</th>\n",
       "      <th>tip_amount</th>\n",
       "      <th>tolls_amount</th>\n",
       "      <th>total_amount</th>\n",
       "    </tr>\n",
       "  </thead>\n",
       "  <tbody>\n",
       "    <tr>\n",
       "      <th>0</th>\n",
       "      <td>CMT</td>\n",
       "      <td>2011-01-29 02:38:35</td>\n",
       "      <td>2011-01-29 02:47:07</td>\n",
       "      <td>1</td>\n",
       "      <td>1.2</td>\n",
       "      <td>-74.005254</td>\n",
       "      <td>40.729084</td>\n",
       "      <td>1</td>\n",
       "      <td>N</td>\n",
       "      <td>-73.988697</td>\n",
       "      <td>40.727127</td>\n",
       "      <td>CSH</td>\n",
       "      <td>6.1</td>\n",
       "      <td>0.5</td>\n",
       "      <td>0.5</td>\n",
       "      <td>0.0</td>\n",
       "      <td>0.0</td>\n",
       "      <td>7.1</td>\n",
       "    </tr>\n",
       "    <tr>\n",
       "      <th>1</th>\n",
       "      <td>CMT</td>\n",
       "      <td>2011-01-28 10:38:19</td>\n",
       "      <td>2011-01-28 10:42:18</td>\n",
       "      <td>1</td>\n",
       "      <td>0.4</td>\n",
       "      <td>-73.968585</td>\n",
       "      <td>40.759171</td>\n",
       "      <td>1</td>\n",
       "      <td>N</td>\n",
       "      <td>-73.964336</td>\n",
       "      <td>40.764665</td>\n",
       "      <td>CSH</td>\n",
       "      <td>4.1</td>\n",
       "      <td>0.0</td>\n",
       "      <td>0.5</td>\n",
       "      <td>0.0</td>\n",
       "      <td>0.0</td>\n",
       "      <td>4.6</td>\n",
       "    </tr>\n",
       "    <tr>\n",
       "      <th>2</th>\n",
       "      <td>CMT</td>\n",
       "      <td>2011-01-28 23:49:58</td>\n",
       "      <td>2011-01-28 23:57:44</td>\n",
       "      <td>3</td>\n",
       "      <td>1.2</td>\n",
       "      <td>-73.980710</td>\n",
       "      <td>40.742390</td>\n",
       "      <td>1</td>\n",
       "      <td>N</td>\n",
       "      <td>-73.987028</td>\n",
       "      <td>40.729532</td>\n",
       "      <td>CSH</td>\n",
       "      <td>6.1</td>\n",
       "      <td>0.5</td>\n",
       "      <td>0.5</td>\n",
       "      <td>0.0</td>\n",
       "      <td>0.0</td>\n",
       "      <td>7.1</td>\n",
       "    </tr>\n",
       "    <tr>\n",
       "      <th>3</th>\n",
       "      <td>CMT</td>\n",
       "      <td>2011-01-28 23:52:09</td>\n",
       "      <td>2011-01-28 23:59:21</td>\n",
       "      <td>3</td>\n",
       "      <td>0.8</td>\n",
       "      <td>-73.993773</td>\n",
       "      <td>40.747329</td>\n",
       "      <td>1</td>\n",
       "      <td>N</td>\n",
       "      <td>-73.991378</td>\n",
       "      <td>40.750050</td>\n",
       "      <td>CSH</td>\n",
       "      <td>5.3</td>\n",
       "      <td>0.5</td>\n",
       "      <td>0.5</td>\n",
       "      <td>0.0</td>\n",
       "      <td>0.0</td>\n",
       "      <td>6.3</td>\n",
       "    </tr>\n",
       "    <tr>\n",
       "      <th>4</th>\n",
       "      <td>CMT</td>\n",
       "      <td>2011-01-28 10:34:39</td>\n",
       "      <td>2011-01-28 11:25:50</td>\n",
       "      <td>1</td>\n",
       "      <td>5.3</td>\n",
       "      <td>-73.991475</td>\n",
       "      <td>40.749936</td>\n",
       "      <td>1</td>\n",
       "      <td>N</td>\n",
       "      <td>-73.950237</td>\n",
       "      <td>40.775626</td>\n",
       "      <td>CSH</td>\n",
       "      <td>25.3</td>\n",
       "      <td>0.0</td>\n",
       "      <td>0.5</td>\n",
       "      <td>0.0</td>\n",
       "      <td>0.0</td>\n",
       "      <td>25.8</td>\n",
       "    </tr>\n",
       "  </tbody>\n",
       "</table>\n",
       "</div>"
      ],
      "text/plain": [
       "  vendor_id      pickup_datetime     dropoff_datetime  passenger_count  \\\n",
       "0       CMT  2011-01-29 02:38:35  2011-01-29 02:47:07                1   \n",
       "1       CMT  2011-01-28 10:38:19  2011-01-28 10:42:18                1   \n",
       "2       CMT  2011-01-28 23:49:58  2011-01-28 23:57:44                3   \n",
       "3       CMT  2011-01-28 23:52:09  2011-01-28 23:59:21                3   \n",
       "4       CMT  2011-01-28 10:34:39  2011-01-28 11:25:50                1   \n",
       "\n",
       "   trip_distance  pickup_longitude  pickup_latitude  rate_code  \\\n",
       "0            1.2        -74.005254        40.729084          1   \n",
       "1            0.4        -73.968585        40.759171          1   \n",
       "2            1.2        -73.980710        40.742390          1   \n",
       "3            0.8        -73.993773        40.747329          1   \n",
       "4            5.3        -73.991475        40.749936          1   \n",
       "\n",
       "  store_and_fwd_flag  dropoff_longitude  dropoff_latitude payment_type  \\\n",
       "0                  N         -73.988697         40.727127          CSH   \n",
       "1                  N         -73.964336         40.764665          CSH   \n",
       "2                  N         -73.987028         40.729532          CSH   \n",
       "3                  N         -73.991378         40.750050          CSH   \n",
       "4                  N         -73.950237         40.775626          CSH   \n",
       "\n",
       "   fare_amount  surcharge  mta_tax  tip_amount  tolls_amount  total_amount  \n",
       "0          6.1        0.5      0.5         0.0           0.0           7.1  \n",
       "1          4.1        0.0      0.5         0.0           0.0           4.6  \n",
       "2          6.1        0.5      0.5         0.0           0.0           7.1  \n",
       "3          5.3        0.5      0.5         0.0           0.0           6.3  \n",
       "4         25.3        0.0      0.5         0.0           0.0          25.8  "
      ]
     },
     "execution_count": 10,
     "metadata": {},
     "output_type": "execute_result"
    }
   ],
   "source": [
    "df.head()"
   ]
  },
  {
   "cell_type": "markdown",
   "id": "5ecbfa3b",
   "metadata": {},
   "source": [
    "Now, we check the dataframe shape"
   ]
  },
  {
   "cell_type": "code",
   "execution_count": 11,
   "id": "8df263db",
   "metadata": {},
   "outputs": [
    {
     "data": {
      "text/plain": [
       "(Delayed('int-d198c96a-0b5a-4c0e-b8e8-61d84aa680e8'), 18)"
      ]
     },
     "execution_count": 11,
     "metadata": {},
     "output_type": "execute_result"
    }
   ],
   "source": [
    "df.shape"
   ]
  },
  {
   "cell_type": "markdown",
   "id": "02823015",
   "metadata": {},
   "source": [
    "The last number is the number of columns. \n",
    "\n",
    "The first number is the number of rows. To get it, we need to scan the entire dataframe. So let's compute this number on the cluster (execute the following cell and go check your dashboard :)"
   ]
  },
  {
   "cell_type": "code",
   "execution_count": 13,
   "id": "a9048b73",
   "metadata": {},
   "outputs": [
    {
     "data": {
      "text/plain": [
       "176897199"
      ]
     },
     "execution_count": 13,
     "metadata": {},
     "output_type": "execute_result"
    }
   ],
   "source": [
    "n_trips = df.shape[0].compute()\n",
    "n_trips "
   ]
  },
  {
   "cell_type": "markdown",
   "id": "db60d8e1",
   "metadata": {},
   "source": [
    "There are 176 million taxi trips in our dataset! \n",
    "\n",
    "This is a large text dataset, that cannot be processed easily on a single machine. That's why we use a cluster. \n",
    "\n",
    "For first tests, a good practice is to select a sample of this dataset that can fit in the memory of the local machine. Here, we sample with a probability of `1e-5` to get about 2000 taxi trips (check your dashboard :)"
   ]
  },
  {
   "cell_type": "code",
   "execution_count": 14,
   "id": "2cbc9da6",
   "metadata": {},
   "outputs": [
    {
     "data": {
      "text/plain": [
       "dask.dataframe.core.DataFrame"
      ]
     },
     "execution_count": 14,
     "metadata": {},
     "output_type": "execute_result"
    }
   ],
   "source": [
    "sample = df.sample(frac=1e-5)\n",
    "type(sample)"
   ]
  },
  {
   "cell_type": "markdown",
   "id": "4a0c9b8e",
   "metadata": {},
   "source": [
    "Before compute, we have a small dask dataframe. We compute it to turn it into a pandas dataframe:"
   ]
  },
  {
   "cell_type": "code",
   "execution_count": 15,
   "id": "164ed785",
   "metadata": {},
   "outputs": [
    {
     "name": "stdout",
     "output_type": "stream",
     "text": [
      "<class 'pandas.core.frame.DataFrame'>\n",
      "(1875, 18)\n"
     ]
    }
   ],
   "source": [
    "sample = sample.compute()\n",
    "print(type(sample))\n",
    "print(sample.shape)"
   ]
  },
  {
   "cell_type": "markdown",
   "id": "af492263",
   "metadata": {},
   "source": [
    "Now, we can use our small sample directly, e.g.: "
   ]
  },
  {
   "cell_type": "code",
   "execution_count": 16,
   "id": "c4daf1e7",
   "metadata": {},
   "outputs": [
    {
     "data": {
      "text/plain": [
       "count    1875.000000\n",
       "mean        0.995941\n",
       "std         1.616802\n",
       "min         0.000000\n",
       "25%         0.000000\n",
       "50%         0.000000\n",
       "75%         1.800000\n",
       "max        20.000000\n",
       "Name: tip_amount, dtype: float64"
      ]
     },
     "execution_count": 16,
     "metadata": {},
     "output_type": "execute_result"
    }
   ],
   "source": [
    "sample[\"tip_amount\"].describe()"
   ]
  },
  {
   "cell_type": "code",
   "execution_count": 17,
   "id": "0478b702",
   "metadata": {},
   "outputs": [
    {
     "data": {
      "text/html": [
       "<div>\n",
       "<style scoped>\n",
       "    .dataframe tbody tr th:only-of-type {\n",
       "        vertical-align: middle;\n",
       "    }\n",
       "\n",
       "    .dataframe tbody tr th {\n",
       "        vertical-align: top;\n",
       "    }\n",
       "\n",
       "    .dataframe thead th {\n",
       "        text-align: right;\n",
       "    }\n",
       "</style>\n",
       "<table border=\"1\" class=\"dataframe\">\n",
       "  <thead>\n",
       "    <tr style=\"text-align: right;\">\n",
       "      <th></th>\n",
       "      <th>passenger_count</th>\n",
       "      <th>trip_distance</th>\n",
       "      <th>pickup_longitude</th>\n",
       "      <th>pickup_latitude</th>\n",
       "      <th>rate_code</th>\n",
       "      <th>dropoff_longitude</th>\n",
       "      <th>dropoff_latitude</th>\n",
       "      <th>fare_amount</th>\n",
       "      <th>surcharge</th>\n",
       "      <th>mta_tax</th>\n",
       "      <th>tip_amount</th>\n",
       "      <th>tolls_amount</th>\n",
       "      <th>total_amount</th>\n",
       "    </tr>\n",
       "  </thead>\n",
       "  <tbody>\n",
       "    <tr>\n",
       "      <th>count</th>\n",
       "      <td>1875.000000</td>\n",
       "      <td>1875.000000</td>\n",
       "      <td>1875.000000</td>\n",
       "      <td>1875.000000</td>\n",
       "      <td>1875.000000</td>\n",
       "      <td>1875.000000</td>\n",
       "      <td>1875.000000</td>\n",
       "      <td>1875.000000</td>\n",
       "      <td>1875.000000</td>\n",
       "      <td>1875.000000</td>\n",
       "      <td>1875.000000</td>\n",
       "      <td>1875.000000</td>\n",
       "      <td>1875.000000</td>\n",
       "    </tr>\n",
       "    <tr>\n",
       "      <th>mean</th>\n",
       "      <td>1.641067</td>\n",
       "      <td>2.801221</td>\n",
       "      <td>-71.967649</td>\n",
       "      <td>39.663557</td>\n",
       "      <td>1.028267</td>\n",
       "      <td>-72.044399</td>\n",
       "      <td>39.684148</td>\n",
       "      <td>10.308693</td>\n",
       "      <td>0.338933</td>\n",
       "      <td>0.498133</td>\n",
       "      <td>0.995941</td>\n",
       "      <td>0.205013</td>\n",
       "      <td>12.346715</td>\n",
       "    </tr>\n",
       "    <tr>\n",
       "      <th>std</th>\n",
       "      <td>1.244719</td>\n",
       "      <td>3.278656</td>\n",
       "      <td>12.027601</td>\n",
       "      <td>6.567075</td>\n",
       "      <td>0.243925</td>\n",
       "      <td>11.805137</td>\n",
       "      <td>6.502751</td>\n",
       "      <td>8.131800</td>\n",
       "      <td>0.369500</td>\n",
       "      <td>0.030502</td>\n",
       "      <td>1.616802</td>\n",
       "      <td>1.031700</td>\n",
       "      <td>9.689979</td>\n",
       "    </tr>\n",
       "    <tr>\n",
       "      <th>min</th>\n",
       "      <td>0.000000</td>\n",
       "      <td>0.000000</td>\n",
       "      <td>-75.425293</td>\n",
       "      <td>0.000000</td>\n",
       "      <td>0.000000</td>\n",
       "      <td>-75.414491</td>\n",
       "      <td>0.000000</td>\n",
       "      <td>2.500000</td>\n",
       "      <td>0.000000</td>\n",
       "      <td>0.000000</td>\n",
       "      <td>0.000000</td>\n",
       "      <td>0.000000</td>\n",
       "      <td>3.000000</td>\n",
       "    </tr>\n",
       "    <tr>\n",
       "      <th>25%</th>\n",
       "      <td>1.000000</td>\n",
       "      <td>1.045000</td>\n",
       "      <td>-73.992424</td>\n",
       "      <td>40.734685</td>\n",
       "      <td>1.000000</td>\n",
       "      <td>-73.991006</td>\n",
       "      <td>40.732678</td>\n",
       "      <td>5.700000</td>\n",
       "      <td>0.000000</td>\n",
       "      <td>0.500000</td>\n",
       "      <td>0.000000</td>\n",
       "      <td>0.000000</td>\n",
       "      <td>7.200000</td>\n",
       "    </tr>\n",
       "    <tr>\n",
       "      <th>50%</th>\n",
       "      <td>1.000000</td>\n",
       "      <td>1.800000</td>\n",
       "      <td>-73.981693</td>\n",
       "      <td>40.753315</td>\n",
       "      <td>1.000000</td>\n",
       "      <td>-73.979859</td>\n",
       "      <td>40.753418</td>\n",
       "      <td>8.100000</td>\n",
       "      <td>0.500000</td>\n",
       "      <td>0.500000</td>\n",
       "      <td>0.000000</td>\n",
       "      <td>0.000000</td>\n",
       "      <td>9.600000</td>\n",
       "    </tr>\n",
       "    <tr>\n",
       "      <th>75%</th>\n",
       "      <td>2.000000</td>\n",
       "      <td>3.110000</td>\n",
       "      <td>-73.966687</td>\n",
       "      <td>40.767927</td>\n",
       "      <td>1.000000</td>\n",
       "      <td>-73.964302</td>\n",
       "      <td>40.768134</td>\n",
       "      <td>11.700000</td>\n",
       "      <td>0.500000</td>\n",
       "      <td>0.500000</td>\n",
       "      <td>1.800000</td>\n",
       "      <td>0.000000</td>\n",
       "      <td>13.680000</td>\n",
       "    </tr>\n",
       "    <tr>\n",
       "      <th>max</th>\n",
       "      <td>6.000000</td>\n",
       "      <td>41.400000</td>\n",
       "      <td>0.000000</td>\n",
       "      <td>41.027519</td>\n",
       "      <td>5.000000</td>\n",
       "      <td>0.000000</td>\n",
       "      <td>41.027519</td>\n",
       "      <td>138.000000</td>\n",
       "      <td>1.000000</td>\n",
       "      <td>0.500000</td>\n",
       "      <td>20.000000</td>\n",
       "      <td>15.000000</td>\n",
       "      <td>167.600000</td>\n",
       "    </tr>\n",
       "  </tbody>\n",
       "</table>\n",
       "</div>"
      ],
      "text/plain": [
       "       passenger_count  trip_distance  pickup_longitude  pickup_latitude  \\\n",
       "count      1875.000000    1875.000000       1875.000000      1875.000000   \n",
       "mean          1.641067       2.801221        -71.967649        39.663557   \n",
       "std           1.244719       3.278656         12.027601         6.567075   \n",
       "min           0.000000       0.000000        -75.425293         0.000000   \n",
       "25%           1.000000       1.045000        -73.992424        40.734685   \n",
       "50%           1.000000       1.800000        -73.981693        40.753315   \n",
       "75%           2.000000       3.110000        -73.966687        40.767927   \n",
       "max           6.000000      41.400000          0.000000        41.027519   \n",
       "\n",
       "         rate_code  dropoff_longitude  dropoff_latitude  fare_amount  \\\n",
       "count  1875.000000        1875.000000       1875.000000  1875.000000   \n",
       "mean      1.028267         -72.044399         39.684148    10.308693   \n",
       "std       0.243925          11.805137          6.502751     8.131800   \n",
       "min       0.000000         -75.414491          0.000000     2.500000   \n",
       "25%       1.000000         -73.991006         40.732678     5.700000   \n",
       "50%       1.000000         -73.979859         40.753418     8.100000   \n",
       "75%       1.000000         -73.964302         40.768134    11.700000   \n",
       "max       5.000000           0.000000         41.027519   138.000000   \n",
       "\n",
       "         surcharge      mta_tax   tip_amount  tolls_amount  total_amount  \n",
       "count  1875.000000  1875.000000  1875.000000   1875.000000   1875.000000  \n",
       "mean      0.338933     0.498133     0.995941      0.205013     12.346715  \n",
       "std       0.369500     0.030502     1.616802      1.031700      9.689979  \n",
       "min       0.000000     0.000000     0.000000      0.000000      3.000000  \n",
       "25%       0.000000     0.500000     0.000000      0.000000      7.200000  \n",
       "50%       0.500000     0.500000     0.000000      0.000000      9.600000  \n",
       "75%       0.500000     0.500000     1.800000      0.000000     13.680000  \n",
       "max       1.000000     0.500000    20.000000     15.000000    167.600000  "
      ]
     },
     "execution_count": 17,
     "metadata": {},
     "output_type": "execute_result"
    }
   ],
   "source": [
    "sample.describe()"
   ]
  },
  {
   "cell_type": "markdown",
   "id": "9986053e",
   "metadata": {},
   "source": [
    "## Parallel analysis : Probability to get a tip\n",
    "\n",
    "Let's compute the probability to get a tip. \n",
    "\n",
    "First, we design our analysis on our sample. It's easy:"
   ]
  },
  {
   "cell_type": "code",
   "execution_count": 18,
   "id": "9ef32c08",
   "metadata": {},
   "outputs": [
    {
     "data": {
      "text/plain": [
       "0.44106666666666666"
      ]
     },
     "execution_count": 18,
     "metadata": {},
     "output_type": "execute_result"
    }
   ],
   "source": [
    "(sample[\"tip_amount\"]>0).sum() / sample.shape[0]"
   ]
  },
  {
   "cell_type": "markdown",
   "id": "364774cd",
   "metadata": {},
   "source": [
    "We can also write a small function to do this: "
   ]
  },
  {
   "cell_type": "code",
   "execution_count": 19,
   "id": "648f871e",
   "metadata": {},
   "outputs": [],
   "source": [
    "def tip_prob(df): \n",
    "    n_tips = (df[\"tip_amount\"]>0).sum()\n",
    "    n_trips = df.shape[0]\n",
    "    return n_tips/n_trips"
   ]
  },
  {
   "cell_type": "code",
   "execution_count": 20,
   "id": "d7cad4c3",
   "metadata": {},
   "outputs": [
    {
     "data": {
      "text/plain": [
       "0.44106666666666666"
      ]
     },
     "execution_count": 20,
     "metadata": {},
     "output_type": "execute_result"
    }
   ],
   "source": [
    "tip_prob(sample)"
   ]
  },
  {
   "cell_type": "markdown",
   "id": "68ab28de",
   "metadata": {},
   "source": [
    "To run the computation on the whole dataset, we just pass the full dask dataframe to the function: "
   ]
  },
  {
   "cell_type": "code",
   "execution_count": 21,
   "id": "526f2d95",
   "metadata": {},
   "outputs": [
    {
     "data": {
      "text/plain": [
       "Delayed('_inner-0fc1a8ddccaa79ca505fec6c18a07590')"
      ]
     },
     "execution_count": 21,
     "metadata": {},
     "output_type": "execute_result"
    }
   ],
   "source": [
    "result = tip_prob(df)\n",
    "result"
   ]
  },
  {
   "cell_type": "code",
   "execution_count": 22,
   "id": "6a58b440",
   "metadata": {},
   "outputs": [
    {
     "data": {
      "text/plain": [
       "0.41981193269204903"
      ]
     },
     "execution_count": 22,
     "metadata": {},
     "output_type": "execute_result"
    }
   ],
   "source": [
    "result.compute()"
   ]
  },
  {
   "cell_type": "markdown",
   "id": "4daf73c5",
   "metadata": {},
   "source": [
    "Terminate your cluster: "
   ]
  },
  {
   "cell_type": "code",
   "execution_count": 23,
   "id": "be339dae",
   "metadata": {},
   "outputs": [
    {
     "name": "stderr",
     "output_type": "stream",
     "text": [
      "distributed.client - ERROR - Failed to reconnect to scheduler after 30.00 seconds, closing client\n"
     ]
    }
   ],
   "source": [
    "cluster.close()"
   ]
  },
  {
   "cell_type": "markdown",
   "id": "1ff94a6b",
   "metadata": {},
   "source": [
    "## Conclusion and outlook\n",
    "\n",
    "At IP2I, we're probably not going to analyze text files very often.\n",
    "\n",
    "But this can happen. For example, Denis could use Dask to analyse disk space usage on gridgroup or on the storage element. Dask is also well suited to the analysis of JSON data.\n",
    "\n",
    "And (dask) dataframes are not limited to text data. For example, they can be used to analyse columnar binary data, or images. \n",
    "\n",
    "A few inspirational links: \n",
    "\n",
    "* [Dask-ML](https://ml.dask.org/): Dask-ML provides scalable machine learning in Python using Dask alongside popular machine learning libraries like Scikit-Learn, XGBoost, and others.\n",
    "* [Dask-Image](https://examples.dask.org/applications/image-processing.html)\n",
    "* [Xarray](https://docs.xarray.dev/en/stable/gallery.html): Wraps Dask Array, offering the same scalability, but with axis labels which add convenience when dealing with complex datasets. A good way to deal with very large images\n",
    "* [Datashader](https://datashader.org/): plot images that are too large to fit in memory. Can be used in conjunction with dask.\n",
    "* [The Dask ecosystem](https://docs.dask.org/en/latest/ecosystem.html): the full dask ecosystem\n",
    "\n",
    "\n"
   ]
  }
 ],
 "metadata": {
  "kernelspec": {
   "display_name": "Python 3 (ipykernel)",
   "language": "python",
   "name": "python3"
  },
  "language_info": {
   "codemirror_mode": {
    "name": "ipython",
    "version": 3
   },
   "file_extension": ".py",
   "mimetype": "text/x-python",
   "name": "python",
   "nbconvert_exporter": "python",
   "pygments_lexer": "ipython3",
   "version": "3.10.2"
  }
 },
 "nbformat": 4,
 "nbformat_minor": 5
}
