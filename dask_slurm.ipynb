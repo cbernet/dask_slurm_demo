{
 "cells": [
  {
   "cell_type": "markdown",
   "id": "7daa3ae8",
   "metadata": {},
   "source": [
    "# Dask on the IP2I Slurm Farm\n",
    "\n",
    "[Dask](https://dask.org/) provides advanced parallelism for analytics, enabling performance at scale for the tools you love. \n",
    "\n",
    "In a nutshell: \n",
    "\n",
    "* you reserve a pool of \"workers\". Each worker is capable of performing tasks\n",
    "* you specify what you want to do, and dask computes a computing graph of the tasks that need to be done to reach your final result\n",
    "* dask schedules the tasks to the workers in your pool in parallel, in such a way as to reach the final result as soon as possible\n",
    "\n",
    "![](https://raw.githubusercontent.com/dask/dask-org/main/images/grid_search_schedule.gif)\n",
    "\n",
    "Dask can run on: \n",
    "\n",
    "* a single machine\n",
    "* a cluster of machines \n",
    "* a cluster with GPU machines "
   ]
  },
  {
   "cell_type": "markdown",
   "id": "b545b094",
   "metadata": {},
   "source": [
    "## Prerequisite: Dask on a single machine \n",
    "\n",
    "Go through the following sections of the [Dask Tutorial](https://tutorial.dask.org/00_overview.html) on your machine: \n",
    "\n",
    "* https://tutorial.dask.org/00_overview.html\n",
    "* https://tutorial.dask.org/01_dask.delayed.html\n",
    "* https://tutorial.dask.org/01x_lazy.html\n",
    "\n",
    "We're now ready to use the resources of the IP2I SLURM Farm with Dask! "
   ]
  },
  {
   "cell_type": "markdown",
   "id": "1822aae1",
   "metadata": {},
   "source": [
    "\n",
    "## Installing dask for the IP2I SLURM Farm\n",
    "\n",
    "You should work on one of the `lyoui*` machines.\n",
    "\n",
    "Install miniconda for your account: \n",
    "\n",
    "```bash\n",
    "wget https://repo.anaconda.com/miniconda/Miniconda3-py39_4.10.3-Linux-x86_64.sh\n",
    "bash Miniconda3-py39_4.10.3-Linux-x86_64.sh\n",
    "```\n",
    "\n",
    "Answer all questions, make sure everything went well, and then log out and log in again\n",
    "\n",
    "Create your conda environment for this exercise:\n",
    "\n",
    "```bash\n",
    "conda create -n dask \n",
    "```\n",
    "\n",
    "Activate it: \n",
    "\n",
    "```bash\n",
    "conda activate dask\n",
    "```\n",
    "\n",
    "Install the needed packages: \n",
    "\n",
    "```bash\n",
    "conda install -c conda-forge dask-jobqueue dask jupyter graphviz python-graphviz\n",
    "```\n",
    "\n",
    "Make sure that everything worked well: \n",
    "\n",
    "```\n",
    "python -c \"import dask_jobqueue; print(dask_jobqueue.__version__)\"\n",
    "```\n",
    "\n",
    "You should get: \n",
    "\n",
    "```\n",
    "/home/cms/cbernet/miniconda3/envs/dask/lib/python3.9/site-packages/dask_jobqueue/core.py:20: FutureWarning: tmpfile is deprecated and will be removed in a future release. Please use dask.utils.tmpfile instead.\n",
    "  from distributed.utils import tmpfile\n",
    "0.7.3\n",
    "```\n",
    "\n",
    "The warning can be ignored\n"
   ]
  },
  {
   "cell_type": "markdown",
   "id": "0154f3f0",
   "metadata": {},
   "source": [
    "## Creating the Dask Cluster on the SLURM Farm"
   ]
  },
  {
   "cell_type": "markdown",
   "id": "a0277da4",
   "metadata": {},
   "source": [
    "Create the cluster: "
   ]
  },
  {
   "cell_type": "code",
   "execution_count": 9,
   "id": "71db94ff",
   "metadata": {},
   "outputs": [
    {
     "name": "stderr",
     "output_type": "stream",
     "text": [
      "/home/cms/cbernet/miniconda3/envs/dask/lib/python3.9/site-packages/dask_jobqueue/core.py:20: FutureWarning: tmpfile is deprecated and will be removed in a future release. Please use dask.utils.tmpfile instead.\n",
      "  from distributed.utils import tmpfile\n"
     ]
    }
   ],
   "source": [
    "from dask_jobqueue import SLURMCluster"
   ]
  },
  {
   "cell_type": "markdown",
   "id": "a2d32ede",
   "metadata": {},
   "source": [
    "Don't worry about the FutureWarning, if any. "
   ]
  },
  {
   "cell_type": "code",
   "execution_count": 10,
   "id": "89a4ee1c",
   "metadata": {},
   "outputs": [],
   "source": [
    "cluster = SLURMCluster(\n",
    "    # queue='normal',\n",
    "    project=\"cms\",\n",
    "    cores=2,\n",
    "    memory=\"8 GB\", \n",
    "    walltime=\"01:00:00\",\n",
    ")"
   ]
  },
  {
   "cell_type": "markdown",
   "id": "37b59362",
   "metadata": {},
   "source": [
    "Under the hood, this creates the slurm batch script to spawn a dask cluster on the slurm farm. We can check this script like this: "
   ]
  },
  {
   "cell_type": "code",
   "execution_count": 11,
   "id": "fd2e1467",
   "metadata": {},
   "outputs": [
    {
     "name": "stdout",
     "output_type": "stream",
     "text": [
      "#!/usr/bin/env bash\n",
      "\n",
      "#SBATCH -J dask-worker\n",
      "#SBATCH -A cms\n",
      "#SBATCH -n 1\n",
      "#SBATCH --cpus-per-task=2\n",
      "#SBATCH --mem=8G\n",
      "#SBATCH -t 01:00:00\n",
      "\n",
      "/home/cms/cbernet/miniconda3/envs/dask/bin/python -m distributed.cli.dask_worker tcp://134.158.83.174:42667 --nthreads 1 --nprocs 2 --memory-limit 3.73GiB --name dummy-name --nanny --death-timeout 60 --protocol tcp://\n",
      "\n"
     ]
    }
   ],
   "source": [
    "print(cluster.job_script())"
   ]
  },
  {
   "cell_type": "markdown",
   "id": "eb0696db",
   "metadata": {},
   "source": [
    "Note the following:\n",
    "\n",
    "I used the cms group, which corresponds to my account (cbernet). Make sure to use the group you belong to. You can check it using the `groups` linux command. \n",
    "\n",
    "I reserved for each slurm worker: \n",
    "\n",
    "* 2 cpus. The two CPUs allow you to run two parallel dask operations at the same time. So if you scale your cluster to 10 workers, you can run 20 dask operations at the same time. \n",
    "* 8 GB of memory\n",
    "* 1 hour. After 1 hour, the worker will be killed by Slurm. In production, I suggest to choose a much longer wall time, say 10 hours so that you can work during the full day. Please make sure not to leave your cluster running if you don't use it, as each worker occupies one slot on the farm. \n",
    "\n",
    "\n"
   ]
  },
  {
   "cell_type": "markdown",
   "id": "00d00bb1",
   "metadata": {},
   "source": [
    "We can now scale the cluster to 10 workers. This submits the worker jobs on the slurm farm: "
   ]
  },
  {
   "cell_type": "code",
   "execution_count": 12,
   "id": "07b36fe0",
   "metadata": {},
   "outputs": [],
   "source": [
    "cluster.scale(jobs=10) "
   ]
  },
  {
   "cell_type": "markdown",
   "id": "41dfb078",
   "metadata": {},
   "source": [
    "In your terminal, check your jobs: \n",
    "\n",
    "```\n",
    "squeue -u $USER\n",
    "```\n",
    "\n",
    "```\n",
    "JOBID PARTITION     NAME     USER ST       TIME  NODES NODELIST(REASON)\n",
    "538279    normal dask-wor  cbernet  R       1:38      1 lyowork001\n",
    "538280    normal dask-wor  cbernet  R       1:38      1 lyowork001\n",
    "538281    normal dask-wor  cbernet  R       1:38      1 lyowork001\n",
    "538282    normal dask-wor  cbernet  R       1:38      1 lyowork001\n",
    "538283    normal dask-wor  cbernet  R       1:38      1 lyowork001\n",
    "538284    normal dask-wor  cbernet  R       1:38      1 lyowork001\n",
    "538285    normal dask-wor  cbernet  R       1:38      1 lyowork012\n",
    "538286    normal dask-wor  cbernet  R       1:38      1 lyowork012\n",
    "538287    normal dask-wor  cbernet  R       1:38      1 lyowork012\n",
    "538288    normal dask-wor  cbernet  R       1:38      1 lyowork012\n",
    "```\n",
    "\n",
    "The workers are all running and are ready to accept dask tasks. \n",
    "\n",
    "The normal queue has been correctly selected according to my walltime of 1h. "
   ]
  },
  {
   "cell_type": "markdown",
   "id": "f4c2ae8b",
   "metadata": {},
   "source": [
    "**Dashboard**\n",
    "\n",
    "Dask comes with a useful dashboard that makes it possible to monitor the performance of your cluster during processing. Get a link to the dashboard like this:"
   ]
  },
  {
   "cell_type": "code",
   "execution_count": null,
   "id": "1d8c9dd9",
   "metadata": {},
   "outputs": [],
   "source": [
    "cluster.dashboard_link"
   ]
  },
  {
   "cell_type": "markdown",
   "id": "142f67ca",
   "metadata": {},
   "source": [
    "The dashboard is a web application running on port 8787 of the current machine. To access it, you need to be able to reach this port. If you're outside the lab, you can open an ssh tunnel from your machine to this port through the `lyoserv` portal: \n",
    "\n",
    "```\n",
    "ssh -L 8888:lyoui1:8901 -L 8787:lyoui1:8787 lyoserv \n",
    "```\n",
    "\n",
    "Here, I mapped: \n",
    "\n",
    "* port 8787 on my local machine outside the lab to port 8787 of the lyoui1 machine, which I'm using now. \n",
    "* port 8888 on my local machine to port 8901 on lyoui1. This is the port on which I run the jupyter notebook server that I'm using now. \n",
    "\n",
    "In this way I can access:\n",
    "\n",
    "* [http://localhost:8787](http://localhost:8787) : the dask cluster dashboard\n",
    "* [http://localhost:8901](http://localhost:8901) : the jupyter notebook server \n",
    "\n",
    "If one of these ports are busy, simply choose another one above 1000. "
   ]
  },
  {
   "cell_type": "markdown",
   "id": "cde2bf91",
   "metadata": {},
   "source": [
    "## Simple dask processing \n",
    "\n",
    "To start with, let's try again to run dask on the local lyoui machine. This is exactly what you did in the dask tutorial: "
   ]
  },
  {
   "cell_type": "code",
   "execution_count": 13,
   "id": "7028ba32",
   "metadata": {},
   "outputs": [],
   "source": [
    "from time import sleep\n",
    "\n",
    "def inc(x):\n",
    "    sleep(1)\n",
    "    return x + 1\n",
    "\n",
    "def add(x, y):\n",
    "    sleep(1)\n",
    "    return x + y"
   ]
  },
  {
   "cell_type": "code",
   "execution_count": 14,
   "id": "4a804abd",
   "metadata": {},
   "outputs": [
    {
     "name": "stdout",
     "output_type": "stream",
     "text": [
      "CPU times: user 62.7 ms, sys: 11.9 ms, total: 74.6 ms\n",
      "Wall time: 3 s\n"
     ]
    }
   ],
   "source": [
    "%%time\n",
    "# This takes three seconds to run because we call each\n",
    "# function sequentially, one after the other\n",
    "\n",
    "x = inc(1)\n",
    "y = inc(2)\n",
    "z = add(x, y)\n"
   ]
  },
  {
   "cell_type": "code",
   "execution_count": 15,
   "id": "568e61ba",
   "metadata": {},
   "outputs": [],
   "source": [
    "from dask import delayed"
   ]
  },
  {
   "cell_type": "code",
   "execution_count": 16,
   "id": "7b2ca5bc",
   "metadata": {},
   "outputs": [
    {
     "name": "stdout",
     "output_type": "stream",
     "text": [
      "CPU times: user 1.05 ms, sys: 1.08 ms, total: 2.13 ms\n",
      "Wall time: 1.52 ms\n"
     ]
    }
   ],
   "source": [
    "%%time\n",
    "# This runs immediately, all it does is build a graph\n",
    "\n",
    "x = delayed(inc)(1)\n",
    "y = delayed(inc)(2)\n",
    "z = delayed(add)(x, y)\n"
   ]
  },
  {
   "cell_type": "code",
   "execution_count": 17,
   "id": "be0f47c6",
   "metadata": {},
   "outputs": [
    {
     "data": {
      "text/plain": [
       "5"
      ]
     },
     "execution_count": 17,
     "metadata": {},
     "output_type": "execute_result"
    }
   ],
   "source": [
    "z.compute()"
   ]
  },
  {
   "cell_type": "code",
   "execution_count": 18,
   "id": "934ef851",
   "metadata": {},
   "outputs": [
    {
     "data": {
      "text/plain": [
       "Delayed('add-2cf8cdf9-4235-4349-b0f9-33958f7715aa')"
      ]
     },
     "execution_count": 18,
     "metadata": {},
     "output_type": "execute_result"
    }
   ],
   "source": [
    "z"
   ]
  },
  {
   "cell_type": "code",
   "execution_count": 19,
   "id": "caeda972",
   "metadata": {},
   "outputs": [
    {
     "name": "stderr",
     "output_type": "stream",
     "text": [
      "Fontconfig warning: ignoring UTF-8: not a valid region tag\n"
     ]
    },
    {
     "data": {
      "image/png": "[encoded data removed]",
      "text/plain": [
       "<IPython.core.display.Image object>"
      ]
     },
     "execution_count": 19,
     "metadata": {},
     "output_type": "execute_result"
    }
   ],
   "source": [
    "z.visualize()"
   ]
  },
  {
   "cell_type": "markdown",
   "id": "4a489ee4",
   "metadata": {},
   "source": [
    "## Dask distributed\n",
    "\n",
    "Now let's see how to run these tasks on our cluster. \n",
    "\n",
    "First, we create a client, which will allow us to schedule tasks on our cluster: \n"
   ]
  },
  {
   "cell_type": "code",
   "execution_count": 20,
   "id": "c7456f89",
   "metadata": {},
   "outputs": [],
   "source": [
    "from dask.distributed import Client\n",
    "client = Client(cluster)"
   ]
  },
  {
   "cell_type": "markdown",
   "id": "8e5261ca",
   "metadata": {},
   "source": [
    "And we redefine our functions, this time with a much longer sleep, to give us time to check what's going on during processing:"
   ]
  },
  {
   "cell_type": "code",
   "execution_count": 37,
   "id": "8ee76a3e",
   "metadata": {},
   "outputs": [],
   "source": [
    "from time import sleep\n",
    "\n",
    "def inc(x):\n",
    "    sleep(10)\n",
    "    return x + 1\n",
    "\n",
    "def add(x, y):\n",
    "    sleep(1)\n",
    "    return x + y"
   ]
  },
  {
   "cell_type": "markdown",
   "id": "4f9ca0eb",
   "metadata": {},
   "source": [
    "We create an input list of values that we are going to increment: "
   ]
  },
  {
   "cell_type": "code",
   "execution_count": 38,
   "id": "99cb390f",
   "metadata": {},
   "outputs": [
    {
     "data": {
      "text/plain": [
       "range(0, 10)"
      ]
     },
     "execution_count": 38,
     "metadata": {},
     "output_type": "execute_result"
    }
   ],
   "source": [
    "x = range(10)\n",
    "x"
   ]
  },
  {
   "cell_type": "markdown",
   "id": "2b90525d",
   "metadata": {},
   "source": [
    "And we increment each value of x: "
   ]
  },
  {
   "cell_type": "code",
   "execution_count": 43,
   "id": "bf842c48",
   "metadata": {},
   "outputs": [
    {
     "data": {
      "text/plain": [
       "[<Future: pending, key: inc-2af8feea880f2a0402fb0c630bf0d9b9>,\n",
       " <Future: pending, key: inc-3a4ad4fb35140f44e0a71e87e0ee0b8f>,\n",
       " <Future: pending, key: inc-49cb262b9fb95bea96ba2548b8e8a166>,\n",
       " <Future: pending, key: inc-1c99216c7f9622e155599e75fa79aded>,\n",
       " <Future: pending, key: inc-ddc0ddbafaf7e432b5aa51a1ce9ac833>,\n",
       " <Future: pending, key: inc-14c22417d8d629b1f78d569057ef9e3e>,\n",
       " <Future: pending, key: inc-a58794f0aeeffd316ecae2f0d72b3dc9>,\n",
       " <Future: pending, key: inc-de17de385867b57b30d445f5597b38c7>,\n",
       " <Future: pending, key: inc-f2681ce8edf1f5d809d09ec09caa2a33>,\n",
       " <Future: pending, key: inc-95a7f9c6b25e8ba664e5eafc8e0aaef9>]"
      ]
     },
     "execution_count": 43,
     "metadata": {},
     "output_type": "execute_result"
    }
   ],
   "source": [
    "incremented = client.map(inc, x)\n",
    "incremented"
   ]
  },
  {
   "cell_type": "markdown",
   "id": "00a5c9ce",
   "metadata": {},
   "source": [
    "Dask submitted 10 parallel tasks, that are currently running (the result is pending).\n",
    "Execute the following command repeatedly until you see that theses tasks are finished. "
   ]
  },
  {
   "cell_type": "code",
   "execution_count": 45,
   "id": "76a14b94",
   "metadata": {},
   "outputs": [
    {
     "data": {
      "text/plain": [
       "[<Future: finished, type: int, key: inc-2af8feea880f2a0402fb0c630bf0d9b9>,\n",
       " <Future: finished, type: int, key: inc-3a4ad4fb35140f44e0a71e87e0ee0b8f>,\n",
       " <Future: finished, type: int, key: inc-49cb262b9fb95bea96ba2548b8e8a166>,\n",
       " <Future: finished, type: int, key: inc-1c99216c7f9622e155599e75fa79aded>,\n",
       " <Future: finished, type: int, key: inc-ddc0ddbafaf7e432b5aa51a1ce9ac833>,\n",
       " <Future: finished, type: int, key: inc-14c22417d8d629b1f78d569057ef9e3e>,\n",
       " <Future: finished, type: int, key: inc-a58794f0aeeffd316ecae2f0d72b3dc9>,\n",
       " <Future: finished, type: int, key: inc-de17de385867b57b30d445f5597b38c7>,\n",
       " <Future: finished, type: int, key: inc-f2681ce8edf1f5d809d09ec09caa2a33>,\n",
       " <Future: finished, type: int, key: inc-95a7f9c6b25e8ba664e5eafc8e0aaef9>]"
      ]
     },
     "execution_count": 45,
     "metadata": {},
     "output_type": "execute_result"
    }
   ],
   "source": [
    "incremented"
   ]
  },
  {
   "cell_type": "markdown",
   "id": "c65bc4a2",
   "metadata": {},
   "source": [
    "Then gather the results: "
   ]
  },
  {
   "cell_type": "code",
   "execution_count": 47,
   "id": "2590a237",
   "metadata": {},
   "outputs": [
    {
     "data": {
      "text/plain": [
       "[1, 2, 3, 4, 5, 6, 7, 8, 9, 10]"
      ]
     },
     "execution_count": 47,
     "metadata": {},
     "output_type": "execute_result"
    }
   ],
   "source": [
    "client.gather(incremented)"
   ]
  },
  {
   "cell_type": "markdown",
   "id": "d94d7cdf",
   "metadata": {},
   "source": [
    "Check your dashboard: http://localhost:8787 \n",
    "\n",
    "You should see that your cluster ran `inc` 10 times in parallel.\n",
    "\n",
    "Now try again: "
   ]
  },
  {
   "cell_type": "code",
   "execution_count": 48,
   "id": "4e3be8eb",
   "metadata": {},
   "outputs": [
    {
     "data": {
      "text/plain": [
       "[<Future: finished, type: int, key: inc-2af8feea880f2a0402fb0c630bf0d9b9>,\n",
       " <Future: finished, type: int, key: inc-3a4ad4fb35140f44e0a71e87e0ee0b8f>,\n",
       " <Future: finished, type: int, key: inc-49cb262b9fb95bea96ba2548b8e8a166>,\n",
       " <Future: finished, type: int, key: inc-1c99216c7f9622e155599e75fa79aded>,\n",
       " <Future: finished, type: int, key: inc-ddc0ddbafaf7e432b5aa51a1ce9ac833>,\n",
       " <Future: finished, type: int, key: inc-14c22417d8d629b1f78d569057ef9e3e>,\n",
       " <Future: finished, type: int, key: inc-a58794f0aeeffd316ecae2f0d72b3dc9>,\n",
       " <Future: finished, type: int, key: inc-de17de385867b57b30d445f5597b38c7>,\n",
       " <Future: finished, type: int, key: inc-f2681ce8edf1f5d809d09ec09caa2a33>,\n",
       " <Future: finished, type: int, key: inc-95a7f9c6b25e8ba664e5eafc8e0aaef9>]"
      ]
     },
     "execution_count": 48,
     "metadata": {},
     "output_type": "execute_result"
    }
   ],
   "source": [
    "incremented = client.map(inc, x)\n",
    "incremented"
   ]
  },
  {
   "cell_type": "markdown",
   "id": "200a80dc",
   "metadata": {},
   "source": [
    "This time, the tasks enter the finished state immediately, no need to wait for 10s. \n",
    "\n",
    "This is because Dask is clever enough to track past operations and to keep the results on the workers. The results of these tasks are already on the workers, and are already available for future processing.\n",
    "\n",
    "If you want, you can restart your cluster like this:  "
   ]
  },
  {
   "cell_type": "code",
   "execution_count": null,
   "id": "54f69d27",
   "metadata": {},
   "outputs": [],
   "source": [
    "client.restart()"
   ]
  },
  {
   "cell_type": "markdown",
   "id": "62c50e35",
   "metadata": {},
   "source": [
    "Congratulations! \n",
    "\n",
    "You have successully run your first jobs on the IP2I Slurm cluster with Dask. \n",
    "\n",
    "Now we're going to do do something a bit more ambitious, with fairly big text data. For now, close your cluster: "
   ]
  },
  {
   "cell_type": "code",
   "execution_count": 49,
   "id": "eb816037",
   "metadata": {},
   "outputs": [
    {
     "name": "stderr",
     "output_type": "stream",
     "text": [
      "distributed.client - ERROR - Failed to reconnect to scheduler after 30.00 seconds, closing client\n",
      "_GatheringFuture exception was never retrieved\n",
      "future: <_GatheringFuture finished exception=CancelledError()>\n",
      "asyncio.exceptions.CancelledError\n"
     ]
    }
   ],
   "source": [
    "cluster.close()"
   ]
  }
 ],
 "metadata": {
  "kernelspec": {
   "display_name": "Python 3 (ipykernel)",
   "language": "python",
   "name": "python3"
  },
  "language_info": {
   "codemirror_mode": {
    "name": "ipython",
    "version": 3
   },
   "file_extension": ".py",
   "mimetype": "text/x-python",
   "name": "python",
   "nbconvert_exporter": "python",
   "pygments_lexer": "ipython3",
   "version": "3.9.10"
  }
 },
 "nbformat": 4,
 "nbformat_minor": 5
}
